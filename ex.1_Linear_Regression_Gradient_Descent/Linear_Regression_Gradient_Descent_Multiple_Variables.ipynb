{
 "cells": [
  {
   "cell_type": "markdown",
   "metadata": {},
   "source": [
    "## Imports"
   ]
  },
  {
   "cell_type": "code",
   "execution_count": 3,
   "metadata": {},
   "outputs": [],
   "source": [
    "import numpy as np\n",
    "import matplotlib.pyplot as plt\n",
    "\n",
    "%matplotlib inline"
   ]
  },
  {
   "cell_type": "markdown",
   "metadata": {},
   "source": [
    "## Organizing Data"
   ]
  },
  {
   "cell_type": "code",
   "execution_count": 4,
   "metadata": {},
   "outputs": [],
   "source": [
    "# for lists the order is [columns, rows]\n",
    "# for numpy the order is [rows, columns]\n",
    "\n",
    "datafile = \"ex1data2.txt\"\n",
    "cols = np.loadtxt(datafile, delimiter=\",\", usecols=(0,1,2), unpack=True)\n",
    "inputs = np.transpose(np.array(cols[:2,:]))\n",
    "price = np.transpose(np.array(cols[2:,:]))\n",
    "m = price.size\n",
    "\n",
    "inputs = np.insert(inputs, 0, 1, axis=1)"
   ]
  },
  {
   "cell_type": "code",
   "execution_count": 5,
   "metadata": {},
   "outputs": [],
   "source": [
    "alpha = 0.01\n",
    "iterations = 1500"
   ]
  },
  {
   "cell_type": "markdown",
   "metadata": {},
   "source": [
    "## Normalizing Features"
   ]
  },
  {
   "cell_type": "code",
   "execution_count": 6,
   "metadata": {},
   "outputs": [],
   "source": [
    "stored_feature_means = []\n",
    "stored_feature_stdev = []\n",
    "inputs_norm = inputs.copy()\n",
    "for column in range(inputs_norm.shape[1]): #shape[]: [0] = # of rows, [1] = # of columns\n",
    "    stored_feature_means.append(np.mean(inputs_norm[:,column])) # all rows for each iterating column\n",
    "    stored_feature_stdev.append(np.std(inputs_norm[:,column]))\n",
    "    # skip the 1st row\n",
    "    if not column: continue\n",
    "    # actual calulations\n",
    "    inputs_norm[:,column] = (inputs_norm[:,column] - stored_feature_means[-1])/stored_feature_stdev[-1]\n",
    "    #inputs_norm shape = (47, 3)"
   ]
  },
  {
   "cell_type": "markdown",
   "metadata": {},
   "source": [
    "## Gradient Descent"
   ]
  },
  {
   "cell_type": "code",
   "execution_count": 7,
   "metadata": {},
   "outputs": [],
   "source": [
    "alpha = 0.01\n",
    "iterations = 1500\n",
    "initial_theta = np.zeros((inputs_norm.shape[1],1))"
   ]
  },
  {
   "cell_type": "code",
   "execution_count": 8,
   "metadata": {},
   "outputs": [],
   "source": [
    "# Hypothesis function | shape = (47,1)\n",
    "def hypothesis_function(theta, X):\n",
    "    return np.dot(X, theta)"
   ]
  },
  {
   "cell_type": "code",
   "execution_count": 35,
   "metadata": {},
   "outputs": [],
   "source": [
    "# Cost function | no shape, is a float\n",
    "# Linear regression cost function is the sum of squarred errors\n",
    "def cost_function(theta, X, y):\n",
    "    return float((1/2*m)*np.dot((hypothesis_function(theta,X)-y).T,(hypothesis_function(theta,X)-y)))"
   ]
  },
  {
   "cell_type": "code",
   "execution_count": 27,
   "metadata": {},
   "outputs": [],
   "source": [
    "# Gradient Descent\n",
    "def gradient_descent(X, theta_start):\n",
    "    theta = theta_start\n",
    "    jvec = []\n",
    "    for i in range(iterations):\n",
    "        temptheta = theta\n",
    "        jvec.append(cost_function(initial_theta,inputs_norm,price))\n",
    "        for j in range(len(theta)):\n",
    "            theta[j] = temptheta[j]-(alpha/m)*np.sum((hypothesis_function(initial_theta,inputs_norm)-price)*np.array(inputs_norm[:,j]).reshape(m,1))\n",
    "        theta = temptheta\n",
    "    return theta, jvec    "
   ]
  },
  {
   "cell_type": "code",
   "execution_count": 30,
   "metadata": {},
   "outputs": [],
   "source": [
    "# Actually running the gradient descent\n",
    "theta, jvec = gradient_descent(inputs_norm, initial_theta)"
   ]
  },
  {
   "cell_type": "code",
   "execution_count": 34,
   "metadata": {},
   "outputs": [
    {
     "data": {
      "image/png": "[encoded data removed]",
      "text/plain": [
       "<Figure size 720x432 with 1 Axes>"
      ]
     },
     "metadata": {
      "needs_background": "light"
     },
     "output_type": "display_data"
    }
   ],
   "source": [
    "# Plot convergence\n",
    "def plot_convergence(jvec):\n",
    "    plt.figure(figsize=(10,6))\n",
    "    plt.plot(range(len(jvec)),jvec,'bo')\n",
    "    plt.grid(True)\n",
    "    plt.title(\"Cost Function Convergence\")\n",
    "    plt.xlabel(\"Number of Iterations\")\n",
    "    plt.ylabel(\"Cost Function\")\n",
    "    \n",
    "plot_convergence(jvec)"
   ]
  },
  {
   "cell_type": "code",
   "execution_count": null,
   "metadata": {},
   "outputs": [],
   "source": []
  }
 ],
 "metadata": {
  "kernelspec": {
   "display_name": "tensorflowenv",
   "language": "python",
   "name": "tensorflowenv"
  },
  "language_info": {
   "codemirror_mode": {
    "name": "ipython",
    "version": 3
   },
   "file_extension": ".py",
   "mimetype": "text/x-python",
   "name": "python",
   "nbconvert_exporter": "python",
   "pygments_lexer": "ipython3",
   "version": "3.6.5"
  }
 },
 "nbformat": 4,
 "nbformat_minor": 2
}
